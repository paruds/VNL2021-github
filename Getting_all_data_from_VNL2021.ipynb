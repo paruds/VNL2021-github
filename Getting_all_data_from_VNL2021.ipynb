{
 "cells": [
  {
   "cell_type": "code",
   "execution_count": 1,
   "id": "0c154c0d",
   "metadata": {},
   "outputs": [],
   "source": [
    "import pandas as pd"
   ]
  },
  {
   "cell_type": "code",
   "execution_count": 2,
   "id": "a9851943",
   "metadata": {},
   "outputs": [],
   "source": [
    "best_players_url = {'best_scorers' : 'https://en.volleyballworld.com/volleyball/competitions/vnl-2021/statistics/men/best-scorers/',\n",
    "                'best_attackers' : 'https://en.volleyballworld.com/volleyball/competitions/vnl-2021/statistics/men/best-attackers/',\n",
    "                'best_blockers' : 'https://en.volleyballworld.com/volleyball/competitions/vnl-2021/statistics/men/best-blockers/',\n",
    "                'best_servers' : 'https://en.volleyballworld.com/volleyball/competitions/vnl-2021/statistics/men/best-servers/',\n",
    "                'best_setters' : 'https://en.volleyballworld.com/volleyball/competitions/vnl-2021/statistics/men/best-setters/',\n",
    "                'best_diggers' : 'https://en.volleyballworld.com/volleyball/competitions/vnl-2021/statistics/men/best-diggers/',\n",
    "                'best_recivers' : 'https://en.volleyballworld.com/volleyball/competitions/vnl-2021/statistics/men/best-receivers/'}"
   ]
  },
  {
   "cell_type": "code",
   "execution_count": 3,
   "id": "2576d2f3",
   "metadata": {},
   "outputs": [],
   "source": [
    "def get_df_from_web(url) :\n",
    "    df = pd.read_html(url)\n",
    "    return df[0]"
   ]
  },
  {
   "cell_type": "code",
   "execution_count": 4,
   "id": "9dddcf7c",
   "metadata": {},
   "outputs": [],
   "source": [
    "list_of_df=[]"
   ]
  },
  {
   "cell_type": "code",
   "execution_count": 5,
   "id": "422d5839",
   "metadata": {},
   "outputs": [],
   "source": [
    "for key,value in best_players_url.items() :\n",
    "    df = get_df_from_web(value)\n",
    "    list_of_df.append(df)"
   ]
  },
  {
   "cell_type": "code",
   "execution_count": 6,
   "id": "c13583f2",
   "metadata": {},
   "outputs": [],
   "source": [
    "list_of_df[0].columns = ['Shirt Number', 'Player Name', 'Team',\n",
    "       'Attack Points', 'Block Points', 'Serve Points',\n",
    "       'Points']\n",
    "\n",
    "list_of_df[1].columns = ['Shirt Number', 'Player Name', 'Team', 'Points',\n",
    "       'Errors', 'Attempts', 'Average per match',\n",
    "       'Success %', 'Total']\n",
    "\n",
    "list_of_df[2].columns = ['Shirt Number', 'Player Name', 'Team',\n",
    "       'Blocks', 'Errors', 'Rebounds',\n",
    "       'Average per match', 'Efficiency %', 'Total']\n",
    "\n",
    "list_of_df[3].columns = ['Shirt Number', 'Player Name', 'Team',\n",
    "       'Points', 'Errors', 'Attemps',\n",
    "       'Average per match', 'Success %', 'Total']\n",
    "\n",
    "list_of_df[4].columns = ['Shirt Number', 'Player Name', 'Team',\n",
    "       'Successful', 'Errors', 'Attempts',\n",
    "       'Average per match', 'Success %', 'Total']\n",
    "\n",
    "list_of_df[5].columns = ['Shirt Number', 'Player Name', 'Team', 'Digs',\n",
    "       'Errors', 'Receptions', 'Average per match',\n",
    "       'Success %', 'Total']\n",
    "\n",
    "list_of_df[6].columns = ['Shirt Number', 'Player Name', 'Team',\n",
    "       'Succesful', 'Errors', 'Attemps',\n",
    "       'Average per match', 'Success %', 'Total']"
   ]
  },
  {
   "cell_type": "code",
   "execution_count": 7,
   "id": "206dd5eb",
   "metadata": {},
   "outputs": [
    {
     "data": {
      "text/plain": [
       "7"
      ]
     },
     "execution_count": 7,
     "metadata": {},
     "output_type": "execute_result"
    }
   ],
   "source": [
    "len(list_of_df)"
   ]
  },
  {
   "cell_type": "code",
   "execution_count": 8,
   "id": "8e856b25",
   "metadata": {},
   "outputs": [],
   "source": [
    "list_of_names = []"
   ]
  },
  {
   "cell_type": "code",
   "execution_count": 9,
   "id": "eb0c3fda",
   "metadata": {},
   "outputs": [
    {
     "name": "stdout",
     "output_type": "stream",
     "text": [
      "['best_scorers', 'best_attackers', 'best_blockers', 'best_servers', 'best_setters', 'best_diggers', 'best_recivers']\n"
     ]
    }
   ],
   "source": [
    "for key in best_players_url :\n",
    "    list_of_names.append(key)\n",
    "print(list_of_names)"
   ]
  },
  {
   "cell_type": "code",
   "execution_count": 10,
   "id": "05d80a8d",
   "metadata": {},
   "outputs": [],
   "source": [
    "dict_of_df = dict(zip(list_of_names,list_of_df))"
   ]
  },
  {
   "cell_type": "code",
   "execution_count": 12,
   "id": "1e7135cd",
   "metadata": {},
   "outputs": [],
   "source": [
    "for key,value in dict_of_df.items() : \n",
    "    value.to_csv(key + '.csv')"
   ]
  }
 ],
 "metadata": {
  "kernelspec": {
   "display_name": "Python 3 (ipykernel)",
   "language": "python",
   "name": "python3"
  },
  "language_info": {
   "codemirror_mode": {
    "name": "ipython",
    "version": 3
   },
   "file_extension": ".py",
   "mimetype": "text/x-python",
   "name": "python",
   "nbconvert_exporter": "python",
   "pygments_lexer": "ipython3",
   "version": "3.9.7"
  }
 },
 "nbformat": 4,
 "nbformat_minor": 5
}
