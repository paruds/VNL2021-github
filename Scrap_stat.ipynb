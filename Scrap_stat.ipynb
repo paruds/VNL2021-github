{
 "cells": [
  {
   "cell_type": "code",
   "execution_count": 1,
   "id": "f942ce58",
   "metadata": {},
   "outputs": [],
   "source": [
    "import pandas as pd"
   ]
  },
  {
   "cell_type": "code",
   "execution_count": 14,
   "id": "de488781",
   "metadata": {},
   "outputs": [],
   "source": [
    "best_scorers = 'https://en.volleyballworld.com/volleyball/competitions/vnl-2021/statistics/men/best-scorers/'\n",
    "best_attackers = 'https://en.volleyballworld.com/volleyball/competitions/vnl-2021/statistics/men/best-attackers/'\n",
    "best_blockers = 'https://en.volleyballworld.com/volleyball/competitions/vnl-2021/statistics/men/best-blockers/'\n",
    "best_servers = 'https://en.volleyballworld.com/volleyball/competitions/vnl-2021/statistics/men/best-servers/'\n",
    "best_setters = 'https://en.volleyballworld.com/volleyball/competitions/vnl-2021/statistics/men/best-setters/'\n",
    "best_diggers = 'https://en.volleyballworld.com/volleyball/competitions/vnl-2021/statistics/men/best-diggers/'\n",
    "best_recivers = 'https://en.volleyballworld.com/volleyball/competitions/vnl-2021/statistics/men/best-receivers/'"
   ]
  },
  {
   "cell_type": "code",
   "execution_count": 15,
   "id": "38544952",
   "metadata": {},
   "outputs": [],
   "source": [
    "best_players = [best_scorers,best_attackers,best_blockers,best_servers,best_setters,best_diggers,best_recivers]"
   ]
  },
  {
   "cell_type": "code",
   "execution_count": 11,
   "id": "3df8a8d2",
   "metadata": {},
   "outputs": [],
   "source": [
    "def get_df_from_web(url) :\n",
    "    df = pd.read_html(url)\n",
    "    return df[0]"
   ]
  },
  {
   "cell_type": "code",
   "execution_count": 35,
   "id": "d7d85eec",
   "metadata": {},
   "outputs": [],
   "source": [
    "for stat in best_players :\n",
    "    df = get_df_from_web(stat)\n",
    "    df.to_csv(stat)"
   ]
  },
  {
   "cell_type": "code",
   "execution_count": 27,
   "id": "7e9ec79b",
   "metadata": {},
   "outputs": [],
   "source": [
    "x = 10"
   ]
  },
  {
   "cell_type": "code",
   "execution_count": 29,
   "id": "7b39563c",
   "metadata": {},
   "outputs": [
    {
     "name": "stdout",
     "output_type": "stream",
     "text": [
      "iks10\n"
     ]
    }
   ],
   "source": [
    "print('iks{}'.format(x))"
   ]
  }
 ],
 "metadata": {
  "kernelspec": {
   "display_name": "Python 3 (ipykernel)",
   "language": "python",
   "name": "python3"
  },
  "language_info": {
   "codemirror_mode": {
    "name": "ipython",
    "version": 3
   },
   "file_extension": ".py",
   "mimetype": "text/x-python",
   "name": "python",
   "nbconvert_exporter": "python",
   "pygments_lexer": "ipython3",
   "version": "3.9.7"
  }
 },
 "nbformat": 4,
 "nbformat_minor": 5
}
