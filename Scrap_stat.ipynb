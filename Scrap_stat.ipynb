{
 "cells": [
  {
   "cell_type": "code",
   "execution_count": 1,
   "id": "de45ed59",
   "metadata": {},
   "outputs": [],
   "source": [
    "import pandas as pd"
   ]
  },
  {
   "cell_type": "code",
   "execution_count": 14,
   "id": "e38b96af",
   "metadata": {},
   "outputs": [],
   "source": [
    "best_scorers = 'https://en.volleyballworld.com/volleyball/competitions/vnl-2021/statistics/men/best-scorers/'\n",
    "best_attackers = 'https://en.volleyballworld.com/volleyball/competitions/vnl-2021/statistics/men/best-attackers/'\n",
    "best_blockers = 'https://en.volleyballworld.com/volleyball/competitions/vnl-2021/statistics/men/best-blockers/'\n",
    "best_servers = 'https://en.volleyballworld.com/volleyball/competitions/vnl-2021/statistics/men/best-servers/'\n",
    "best_setters = 'https://en.volleyballworld.com/volleyball/competitions/vnl-2021/statistics/men/best-setters/'\n",
    "best_diggers = 'https://en.volleyballworld.com/volleyball/competitions/vnl-2021/statistics/men/best-diggers/'\n",
    "best_recivers = 'https://en.volleyballworld.com/volleyball/competitions/vnl-2021/statistics/men/best-receivers/'"
   ]
  },
  {
   "cell_type": "code",
   "execution_count": 15,
   "id": "cd26269b",
   "metadata": {},
   "outputs": [],
   "source": [
    "best_players = [best_scorers,best_attackers,best_blockers,best_servers,best_setters,best_diggers,best_recivers]"
   ]
  },
  {
   "cell_type": "code",
   "execution_count": 11,
   "id": "2bce8fe7",
   "metadata": {},
   "outputs": [],
   "source": [
    "def get_df_from_web(url) :\n",
    "    df = pd.read_html(url)\n",
    "    return df[0]"
   ]
  },
  {
   "cell_type": "code",
   "execution_count": 55,
   "id": "01bef635",
   "metadata": {},
   "outputs": [
    {
     "ename": "ValueError",
     "evalue": "too many values to unpack (expected 2)",
     "output_type": "error",
     "traceback": [
      "\u001b[1;31m---------------------------------------------------------------------------\u001b[0m",
      "\u001b[1;31mValueError\u001b[0m                                Traceback (most recent call last)",
      "\u001b[1;32m~\\AppData\\Local\\Temp/ipykernel_14544/2041860848.py\u001b[0m in \u001b[0;36m<module>\u001b[1;34m\u001b[0m\n\u001b[1;32m----> 1\u001b[1;33m \u001b[1;32mfor\u001b[0m \u001b[0mkey\u001b[0m\u001b[1;33m,\u001b[0m\u001b[0mvalue\u001b[0m \u001b[1;32min\u001b[0m \u001b[0mbest_players\u001b[0m \u001b[1;33m:\u001b[0m\u001b[1;33m\u001b[0m\u001b[1;33m\u001b[0m\u001b[0m\n\u001b[0m\u001b[0;32m      2\u001b[0m     \u001b[0mdf\u001b[0m \u001b[1;33m=\u001b[0m \u001b[0mget_df_from_web\u001b[0m\u001b[1;33m(\u001b[0m\u001b[0mvalue\u001b[0m\u001b[1;33m)\u001b[0m\u001b[1;33m\u001b[0m\u001b[1;33m\u001b[0m\u001b[0m\n\u001b[0;32m      3\u001b[0m \u001b[1;33m\u001b[0m\u001b[0m\n",
      "\u001b[1;31mValueError\u001b[0m: too many values to unpack (expected 2)"
     ]
    }
   ],
   "source": [
    "for key,value in best_players :\n",
    "    df = get_df_from_web(value)\n",
    "    "
   ]
  },
  {
   "cell_type": "code",
   "execution_count": 27,
   "id": "f0af06fb",
   "metadata": {},
   "outputs": [],
   "source": [
    "x = 10"
   ]
  },
  {
   "cell_type": "code",
   "execution_count": 29,
   "id": "b4e27a99",
   "metadata": {},
   "outputs": [
    {
     "name": "stdout",
     "output_type": "stream",
     "text": [
      "iks10\n"
     ]
    }
   ],
   "source": [
    "print('iks{}'.format(x))"
   ]
  }
 ],
 "metadata": {
  "kernelspec": {
   "display_name": "Python 3 (ipykernel)",
   "language": "python",
   "name": "python3"
  },
  "language_info": {
   "codemirror_mode": {
    "name": "ipython",
    "version": 3
   },
   "file_extension": ".py",
   "mimetype": "text/x-python",
   "name": "python",
   "nbconvert_exporter": "python",
   "pygments_lexer": "ipython3",
   "version": "3.9.7"
  }
 },
 "nbformat": 4,
 "nbformat_minor": 5
}
