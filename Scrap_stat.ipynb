{
 "cells": [
  {
   "cell_type": "code",
   "execution_count": 1,
   "id": "0c154c0d",
   "metadata": {},
   "outputs": [],
   "source": [
    "import pandas as pd"
   ]
  },
  {
   "cell_type": "code",
   "execution_count": 14,
   "id": "9ad8e3ae",
   "metadata": {},
   "outputs": [],
   "source": [
    "best_scorers = 'https://en.volleyballworld.com/volleyball/competitions/vnl-2021/statistics/men/best-scorers/'\n",
    "best_attackers = 'https://en.volleyballworld.com/volleyball/competitions/vnl-2021/statistics/men/best-attackers/'\n",
    "best_blockers = 'https://en.volleyballworld.com/volleyball/competitions/vnl-2021/statistics/men/best-blockers/'\n",
    "best_servers = 'https://en.volleyballworld.com/volleyball/competitions/vnl-2021/statistics/men/best-servers/'\n",
    "best_setters = 'https://en.volleyballworld.com/volleyball/competitions/vnl-2021/statistics/men/best-setters/'\n",
    "best_diggers = 'https://en.volleyballworld.com/volleyball/competitions/vnl-2021/statistics/men/best-diggers/'\n",
    "best_recivers = 'https://en.volleyballworld.com/volleyball/competitions/vnl-2021/statistics/men/best-receivers/'"
   ]
  },
  {
   "cell_type": "code",
   "execution_count": 15,
   "id": "a9851943",
   "metadata": {},
   "outputs": [],
   "source": [
    "best_players = [best_scorers,best_attackers,best_blockers,best_servers,best_setters,best_diggers,best_recivers]"
   ]
  },
  {
   "cell_type": "code",
   "execution_count": 11,
   "id": "2576d2f3",
   "metadata": {},
   "outputs": [],
   "source": [
    "def get_df_from_web(url) :\n",
    "    df = pd.read_html(url)\n",
    "    return df[0]"
   ]
  },
  {
   "cell_type": "code",
   "execution_count": 60,
   "id": "422d5839",
   "metadata": {},
   "outputs": [],
   "source": [
    "for key,value in best_players.items() :\n",
    "    df = get_df_from_web(value)\n",
    "    df.to_csv(key+'.csv')"
   ]
  }
 ],
 "metadata": {
  "kernelspec": {
   "display_name": "Python 3 (ipykernel)",
   "language": "python",
   "name": "python3"
  },
  "language_info": {
   "codemirror_mode": {
    "name": "ipython",
    "version": 3
   },
   "file_extension": ".py",
   "mimetype": "text/x-python",
   "name": "python",
   "nbconvert_exporter": "python",
   "pygments_lexer": "ipython3",
   "version": "3.9.7"
  }
 },
 "nbformat": 4,
 "nbformat_minor": 5
}
